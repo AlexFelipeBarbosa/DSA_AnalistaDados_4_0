{
 "cells": [
  {
   "cell_type": "markdown",
   "id": "16000d4d",
   "metadata": {},
   "source": [
    "## Alex Felipe Barbosa - 17/07/2025\n",
    "### Data Science Academy \n",
    "### Projetos de Analise de Dados com Linguagem Python\n",
    "\n",
    "### Projeto 2 - Técnicas de Pré-Processamento para Analise de Dados"
   ]
  },
  {
   "cell_type": "markdown",
   "id": "bdab385b",
   "metadata": {},
   "source": [
    "Pacotes Python utilizados no Projeto"
   ]
  },
  {
   "cell_type": "code",
   "execution_count": 1,
   "id": "516e2e4d",
   "metadata": {},
   "outputs": [],
   "source": [
    "!pip install -q -U watermark"
   ]
  },
  {
   "cell_type": "code",
   "execution_count": 2,
   "id": "cb97c0c3",
   "metadata": {},
   "outputs": [],
   "source": [
    "!pip install -q missingno"
   ]
  },
  {
   "cell_type": "code",
   "execution_count": 3,
   "id": "6aaf7746",
   "metadata": {},
   "outputs": [],
   "source": [
    "# Imports\n",
    "import pandas as pd\n",
    "import numpy as np\n",
    "import matplotlib.pyplot as plt\n",
    "import seaborn as sns\n",
    "import missingno as msno"
   ]
  },
  {
   "cell_type": "code",
   "execution_count": 4,
   "id": "9e350ce5",
   "metadata": {},
   "outputs": [
    {
     "name": "stdout",
     "output_type": "stream",
     "text": [
      "Author: Alex Felipe Barbosa\n",
      "\n"
     ]
    }
   ],
   "source": [
    "%reload_ext watermark\n",
    "%watermark -a \"Alex Felipe Barbosa\""
   ]
  },
  {
   "cell_type": "markdown",
   "id": "dac73960",
   "metadata": {},
   "source": [
    "Carregando os Dados"
   ]
  },
  {
   "cell_type": "code",
   "execution_count": 5,
   "id": "ba56e333",
   "metadata": {},
   "outputs": [],
   "source": [
    "# Carrega o dataset \n",
    "df_dsa = pd.read_csv(\"dataset.csv\")"
   ]
  },
  {
   "cell_type": "code",
   "execution_count": 6,
   "id": "d5a047f8",
   "metadata": {},
   "outputs": [
    {
     "data": {
      "text/plain": [
       "(500, 5)"
      ]
     },
     "execution_count": 6,
     "metadata": {},
     "output_type": "execute_result"
    }
   ],
   "source": [
    "# Shape\n",
    "df_dsa.shape"
   ]
  },
  {
   "cell_type": "code",
   "execution_count": 7,
   "id": "e6d0c01f",
   "metadata": {},
   "outputs": [
    {
     "data": {
      "text/plain": [
       "Index(['Idade', 'Salario', 'Genero', 'Escolaridade',\n",
       "       'Score_Exame_Psicotecnico'],\n",
       "      dtype='object')"
      ]
     },
     "execution_count": 7,
     "metadata": {},
     "output_type": "execute_result"
    }
   ],
   "source": [
    "# Colunas \n",
    "df_dsa.columns"
   ]
  },
  {
   "cell_type": "code",
   "execution_count": 8,
   "id": "6ae3db0d",
   "metadata": {},
   "outputs": [
    {
     "data": {
      "text/html": [
       "<div>\n",
       "<style scoped>\n",
       "    .dataframe tbody tr th:only-of-type {\n",
       "        vertical-align: middle;\n",
       "    }\n",
       "\n",
       "    .dataframe tbody tr th {\n",
       "        vertical-align: top;\n",
       "    }\n",
       "\n",
       "    .dataframe thead th {\n",
       "        text-align: right;\n",
       "    }\n",
       "</style>\n",
       "<table border=\"1\" class=\"dataframe\">\n",
       "  <thead>\n",
       "    <tr style=\"text-align: right;\">\n",
       "      <th></th>\n",
       "      <th>Idade</th>\n",
       "      <th>Salario</th>\n",
       "      <th>Genero</th>\n",
       "      <th>Escolaridade</th>\n",
       "      <th>Score_Exame_Psicotecnico</th>\n",
       "    </tr>\n",
       "  </thead>\n",
       "  <tbody>\n",
       "    <tr>\n",
       "      <th>0</th>\n",
       "      <td>58</td>\n",
       "      <td>30404.959339</td>\n",
       "      <td>Masculino</td>\n",
       "      <td>Médio</td>\n",
       "      <td>56.0</td>\n",
       "    </tr>\n",
       "    <tr>\n",
       "      <th>1</th>\n",
       "      <td>48</td>\n",
       "      <td>20886.502401</td>\n",
       "      <td>Feminino</td>\n",
       "      <td>Médio</td>\n",
       "      <td>NaN</td>\n",
       "    </tr>\n",
       "    <tr>\n",
       "      <th>2</th>\n",
       "      <td>34</td>\n",
       "      <td>15959.388748</td>\n",
       "      <td>Masculino</td>\n",
       "      <td>Médio</td>\n",
       "      <td>57.0</td>\n",
       "    </tr>\n",
       "    <tr>\n",
       "      <th>3</th>\n",
       "      <td>62</td>\n",
       "      <td>28534.995327</td>\n",
       "      <td>Outro</td>\n",
       "      <td>Superior</td>\n",
       "      <td>68.0</td>\n",
       "    </tr>\n",
       "    <tr>\n",
       "      <th>4</th>\n",
       "      <td>27</td>\n",
       "      <td>10553.176215</td>\n",
       "      <td>Outro</td>\n",
       "      <td>Fundamental</td>\n",
       "      <td>44.0</td>\n",
       "    </tr>\n",
       "  </tbody>\n",
       "</table>\n",
       "</div>"
      ],
      "text/plain": [
       "   Idade       Salario     Genero Escolaridade  Score_Exame_Psicotecnico\n",
       "0     58  30404.959339  Masculino        Médio                      56.0\n",
       "1     48  20886.502401   Feminino        Médio                       NaN\n",
       "2     34  15959.388748  Masculino        Médio                      57.0\n",
       "3     62  28534.995327      Outro     Superior                      68.0\n",
       "4     27  10553.176215      Outro  Fundamental                      44.0"
      ]
     },
     "execution_count": 8,
     "metadata": {},
     "output_type": "execute_result"
    }
   ],
   "source": [
    "# 5 primeiras linhas do dataset \n",
    "df_dsa.head()"
   ]
  },
  {
   "cell_type": "code",
   "execution_count": 9,
   "id": "326d9300",
   "metadata": {},
   "outputs": [
    {
     "data": {
      "text/html": [
       "<div>\n",
       "<style scoped>\n",
       "    .dataframe tbody tr th:only-of-type {\n",
       "        vertical-align: middle;\n",
       "    }\n",
       "\n",
       "    .dataframe tbody tr th {\n",
       "        vertical-align: top;\n",
       "    }\n",
       "\n",
       "    .dataframe thead th {\n",
       "        text-align: right;\n",
       "    }\n",
       "</style>\n",
       "<table border=\"1\" class=\"dataframe\">\n",
       "  <thead>\n",
       "    <tr style=\"text-align: right;\">\n",
       "      <th></th>\n",
       "      <th>Idade</th>\n",
       "      <th>Salario</th>\n",
       "      <th>Genero</th>\n",
       "      <th>Escolaridade</th>\n",
       "      <th>Score_Exame_Psicotecnico</th>\n",
       "    </tr>\n",
       "  </thead>\n",
       "  <tbody>\n",
       "    <tr>\n",
       "      <th>154</th>\n",
       "      <td>32</td>\n",
       "      <td>5662.789500</td>\n",
       "      <td>Feminino</td>\n",
       "      <td>Médio</td>\n",
       "      <td>50.0</td>\n",
       "    </tr>\n",
       "    <tr>\n",
       "      <th>99</th>\n",
       "      <td>36</td>\n",
       "      <td>27380.854196</td>\n",
       "      <td>Feminino</td>\n",
       "      <td>Fundamental</td>\n",
       "      <td>29.0</td>\n",
       "    </tr>\n",
       "    <tr>\n",
       "      <th>181</th>\n",
       "      <td>27</td>\n",
       "      <td>10620.908797</td>\n",
       "      <td>Outro</td>\n",
       "      <td>Médio</td>\n",
       "      <td>78.0</td>\n",
       "    </tr>\n",
       "    <tr>\n",
       "      <th>418</th>\n",
       "      <td>49</td>\n",
       "      <td>18097.853238</td>\n",
       "      <td>Masculino</td>\n",
       "      <td>Fundamental</td>\n",
       "      <td>47.0</td>\n",
       "    </tr>\n",
       "    <tr>\n",
       "      <th>478</th>\n",
       "      <td>35</td>\n",
       "      <td>17325.057548</td>\n",
       "      <td>Feminino</td>\n",
       "      <td>Superior</td>\n",
       "      <td>95.0</td>\n",
       "    </tr>\n",
       "    <tr>\n",
       "      <th>171</th>\n",
       "      <td>44</td>\n",
       "      <td>16010.610537</td>\n",
       "      <td>Masculino</td>\n",
       "      <td>Médio</td>\n",
       "      <td>76.0</td>\n",
       "    </tr>\n",
       "    <tr>\n",
       "      <th>175</th>\n",
       "      <td>46</td>\n",
       "      <td>24069.899554</td>\n",
       "      <td>Outro</td>\n",
       "      <td>Médio</td>\n",
       "      <td>44.0</td>\n",
       "    </tr>\n",
       "    <tr>\n",
       "      <th>103</th>\n",
       "      <td>52</td>\n",
       "      <td>28459.595858</td>\n",
       "      <td>Masculino</td>\n",
       "      <td>Fundamental</td>\n",
       "      <td>56.0</td>\n",
       "    </tr>\n",
       "    <tr>\n",
       "      <th>259</th>\n",
       "      <td>21</td>\n",
       "      <td>9484.773070</td>\n",
       "      <td>Masculino</td>\n",
       "      <td>Superior</td>\n",
       "      <td>65.0</td>\n",
       "    </tr>\n",
       "    <tr>\n",
       "      <th>79</th>\n",
       "      <td>64</td>\n",
       "      <td>32062.962004</td>\n",
       "      <td>Masculino</td>\n",
       "      <td>Médio</td>\n",
       "      <td>52.0</td>\n",
       "    </tr>\n",
       "  </tbody>\n",
       "</table>\n",
       "</div>"
      ],
      "text/plain": [
       "     Idade       Salario     Genero Escolaridade  Score_Exame_Psicotecnico\n",
       "154     32   5662.789500   Feminino        Médio                      50.0\n",
       "99      36  27380.854196   Feminino  Fundamental                      29.0\n",
       "181     27  10620.908797      Outro        Médio                      78.0\n",
       "418     49  18097.853238  Masculino  Fundamental                      47.0\n",
       "478     35  17325.057548   Feminino     Superior                      95.0\n",
       "171     44  16010.610537  Masculino        Médio                      76.0\n",
       "175     46  24069.899554      Outro        Médio                      44.0\n",
       "103     52  28459.595858  Masculino  Fundamental                      56.0\n",
       "259     21   9484.773070  Masculino     Superior                      65.0\n",
       "79      64  32062.962004  Masculino        Médio                      52.0"
      ]
     },
     "execution_count": 9,
     "metadata": {},
     "output_type": "execute_result"
    }
   ],
   "source": [
    "# Amostra de dados \n",
    "df_dsa.sample(10)"
   ]
  },
  {
   "cell_type": "code",
   "execution_count": 10,
   "id": "d7493b9a",
   "metadata": {},
   "outputs": [
    {
     "name": "stdout",
     "output_type": "stream",
     "text": [
      "<class 'pandas.core.frame.DataFrame'>\n",
      "RangeIndex: 500 entries, 0 to 499\n",
      "Data columns (total 5 columns):\n",
      " #   Column                    Non-Null Count  Dtype  \n",
      "---  ------                    --------------  -----  \n",
      " 0   Idade                     500 non-null    int64  \n",
      " 1   Salario                   450 non-null    float64\n",
      " 2   Genero                    500 non-null    object \n",
      " 3   Escolaridade              500 non-null    object \n",
      " 4   Score_Exame_Psicotecnico  470 non-null    float64\n",
      "dtypes: float64(2), int64(1), object(2)\n",
      "memory usage: 19.7+ KB\n"
     ]
    }
   ],
   "source": [
    "# Info\n",
    "df_dsa.info()"
   ]
  },
  {
   "cell_type": "markdown",
   "id": "995e599d",
   "metadata": {},
   "source": [
    "## Análise Exploratória dos Dados \n",
    "Esta etapa do processo ajuda a compreender como os dados estão organizados e os eventuais problemas."
   ]
  },
  {
   "cell_type": "code",
   "execution_count": 11,
   "id": "a38cf289",
   "metadata": {},
   "outputs": [
    {
     "data": {
      "text/html": [
       "<div>\n",
       "<style scoped>\n",
       "    .dataframe tbody tr th:only-of-type {\n",
       "        vertical-align: middle;\n",
       "    }\n",
       "\n",
       "    .dataframe tbody tr th {\n",
       "        vertical-align: top;\n",
       "    }\n",
       "\n",
       "    .dataframe thead th {\n",
       "        text-align: right;\n",
       "    }\n",
       "</style>\n",
       "<table border=\"1\" class=\"dataframe\">\n",
       "  <thead>\n",
       "    <tr style=\"text-align: right;\">\n",
       "      <th></th>\n",
       "      <th>Genero</th>\n",
       "      <th>Escolaridade</th>\n",
       "    </tr>\n",
       "  </thead>\n",
       "  <tbody>\n",
       "    <tr>\n",
       "      <th>count</th>\n",
       "      <td>500</td>\n",
       "      <td>500</td>\n",
       "    </tr>\n",
       "    <tr>\n",
       "      <th>unique</th>\n",
       "      <td>3</td>\n",
       "      <td>3</td>\n",
       "    </tr>\n",
       "    <tr>\n",
       "      <th>top</th>\n",
       "      <td>Feminino</td>\n",
       "      <td>Médio</td>\n",
       "    </tr>\n",
       "    <tr>\n",
       "      <th>freq</th>\n",
       "      <td>169</td>\n",
       "      <td>274</td>\n",
       "    </tr>\n",
       "  </tbody>\n",
       "</table>\n",
       "</div>"
      ],
      "text/plain": [
       "          Genero Escolaridade\n",
       "count        500          500\n",
       "unique         3            3\n",
       "top     Feminino        Médio\n",
       "freq         169          274"
      ]
     },
     "execution_count": 11,
     "metadata": {},
     "output_type": "execute_result"
    }
   ],
   "source": [
    "# Descrevendo os dados não numéricos \n",
    "df_dsa.describe(include= object)"
   ]
  },
  {
   "cell_type": "code",
   "execution_count": 12,
   "id": "5f74e3ff",
   "metadata": {},
   "outputs": [
    {
     "data": {
      "text/html": [
       "<div>\n",
       "<style scoped>\n",
       "    .dataframe tbody tr th:only-of-type {\n",
       "        vertical-align: middle;\n",
       "    }\n",
       "\n",
       "    .dataframe tbody tr th {\n",
       "        vertical-align: top;\n",
       "    }\n",
       "\n",
       "    .dataframe thead th {\n",
       "        text-align: right;\n",
       "    }\n",
       "</style>\n",
       "<table border=\"1\" class=\"dataframe\">\n",
       "  <thead>\n",
       "    <tr style=\"text-align: right;\">\n",
       "      <th></th>\n",
       "      <th>Idade</th>\n",
       "      <th>Salario</th>\n",
       "      <th>Score_Exame_Psicotecnico</th>\n",
       "    </tr>\n",
       "  </thead>\n",
       "  <tbody>\n",
       "    <tr>\n",
       "      <th>count</th>\n",
       "      <td>500.000000</td>\n",
       "      <td>450.000000</td>\n",
       "      <td>470.000000</td>\n",
       "    </tr>\n",
       "    <tr>\n",
       "      <th>mean</th>\n",
       "      <td>42.848000</td>\n",
       "      <td>21252.781137</td>\n",
       "      <td>61.565957</td>\n",
       "    </tr>\n",
       "    <tr>\n",
       "      <th>std</th>\n",
       "      <td>13.189725</td>\n",
       "      <td>8322.933018</td>\n",
       "      <td>17.662523</td>\n",
       "    </tr>\n",
       "    <tr>\n",
       "      <th>min</th>\n",
       "      <td>20.000000</td>\n",
       "      <td>-3254.849042</td>\n",
       "      <td>20.000000</td>\n",
       "    </tr>\n",
       "    <tr>\n",
       "      <th>25%</th>\n",
       "      <td>31.750000</td>\n",
       "      <td>15139.019963</td>\n",
       "      <td>48.000000</td>\n",
       "    </tr>\n",
       "    <tr>\n",
       "      <th>50%</th>\n",
       "      <td>44.000000</td>\n",
       "      <td>21681.102602</td>\n",
       "      <td>61.000000</td>\n",
       "    </tr>\n",
       "    <tr>\n",
       "      <th>75%</th>\n",
       "      <td>54.000000</td>\n",
       "      <td>27379.540314</td>\n",
       "      <td>74.000000</td>\n",
       "    </tr>\n",
       "    <tr>\n",
       "      <th>max</th>\n",
       "      <td>65.000000</td>\n",
       "      <td>40845.107626</td>\n",
       "      <td>100.000000</td>\n",
       "    </tr>\n",
       "  </tbody>\n",
       "</table>\n",
       "</div>"
      ],
      "text/plain": [
       "            Idade       Salario  Score_Exame_Psicotecnico\n",
       "count  500.000000    450.000000                470.000000\n",
       "mean    42.848000  21252.781137                 61.565957\n",
       "std     13.189725   8322.933018                 17.662523\n",
       "min     20.000000  -3254.849042                 20.000000\n",
       "25%     31.750000  15139.019963                 48.000000\n",
       "50%     44.000000  21681.102602                 61.000000\n",
       "75%     54.000000  27379.540314                 74.000000\n",
       "max     65.000000  40845.107626                100.000000"
      ]
     },
     "execution_count": 12,
     "metadata": {},
     "output_type": "execute_result"
    }
   ],
   "source": [
    "# Descrevendo os dados numéricos \n",
    "df_dsa.describe()"
   ]
  },
  {
   "cell_type": "markdown",
   "id": "a632a1d1",
   "metadata": {},
   "source": [
    "### Visualizando a distribuição das Variáveis Quantitativas "
   ]
  },
  {
   "cell_type": "code",
   "execution_count": 13,
   "id": "4a587a9c",
   "metadata": {},
   "outputs": [],
   "source": [
    "colunas_selecionadas = [list(df_dsa.columns.values)[i] for i in [0, 1, 4]]"
   ]
  },
  {
   "cell_type": "code",
   "execution_count": 14,
   "id": "bc20e4d4",
   "metadata": {},
   "outputs": [
    {
     "data": {
      "text/plain": [
       "['Idade', 'Salario', 'Score_Exame_Psicotecnico']"
      ]
     },
     "execution_count": 14,
     "metadata": {},
     "output_type": "execute_result"
    }
   ],
   "source": [
    "colunas_selecionadas"
   ]
  },
  {
   "cell_type": "code",
   "execution_count": 15,
   "id": "3eae91b6",
   "metadata": {},
   "outputs": [
    {
     "name": "stderr",
     "output_type": "stream",
     "text": [
      "c:\\Users\\alexf\\anaconda3\\Lib\\site-packages\\seaborn\\_oldcore.py:1119: FutureWarning: use_inf_as_na option is deprecated and will be removed in a future version. Convert inf values to NaN before operating instead.\n",
      "  with pd.option_context('mode.use_inf_as_na', True):\n"
     ]
    },
    {
     "data": {
      "image/png": "[encoded data removed]",
      "text/plain": [
       "<Figure size 800x600 with 1 Axes>"
      ]
     },
     "metadata": {},
     "output_type": "display_data"
    }
   ],
   "source": [
    "# Distribuição de Idades\n",
    "plt.figure(figsize=(8,6))\n",
    "sns.histplot(df_dsa['Idade'], kde=True)\n",
    "plt.title('Distribuição de Idades')\n",
    "plt.xlabel('Idade')\n",
    "plt.ylabel('Contagem')\n",
    "plt.show()\n"
   ]
  },
  {
   "cell_type": "code",
   "execution_count": 16,
   "id": "992d2b3d",
   "metadata": {},
   "outputs": [
    {
     "name": "stderr",
     "output_type": "stream",
     "text": [
      "c:\\Users\\alexf\\anaconda3\\Lib\\site-packages\\seaborn\\_oldcore.py:1119: FutureWarning: use_inf_as_na option is deprecated and will be removed in a future version. Convert inf values to NaN before operating instead.\n",
      "  with pd.option_context('mode.use_inf_as_na', True):\n"
     ]
    },
    {
     "data": {
      "image/png": "[encoded data removed]",
      "text/plain": [
       "<Figure size 800x600 with 1 Axes>"
      ]
     },
     "metadata": {},
     "output_type": "display_data"
    }
   ],
   "source": [
    "# Distribuição de Salários \n",
    "plt.figure(figsize=(8,6))\n",
    "sns.histplot(df_dsa['Salario'], kde = True)\n",
    "plt.title('Distribuição de Salários')\n",
    "plt.xlabel('Salário')\n",
    "plt.ylabel('Contagem')\n",
    "plt.show()"
   ]
  },
  {
   "cell_type": "code",
   "execution_count": 17,
   "id": "4f03a57b",
   "metadata": {},
   "outputs": [
    {
     "name": "stderr",
     "output_type": "stream",
     "text": [
      "c:\\Users\\alexf\\anaconda3\\Lib\\site-packages\\seaborn\\_oldcore.py:1119: FutureWarning: use_inf_as_na option is deprecated and will be removed in a future version. Convert inf values to NaN before operating instead.\n",
      "  with pd.option_context('mode.use_inf_as_na', True):\n"
     ]
    },
    {
     "data": {
      "image/png": "[encoded data removed]",
      "text/plain": [
       "<Figure size 800x600 with 1 Axes>"
      ]
     },
     "metadata": {},
     "output_type": "display_data"
    }
   ],
   "source": [
    "# Distribuição de Scores \n",
    "plt.figure(figsize=(8,6))\n",
    "sns.histplot(df_dsa['Score_Exame_Psicotecnico'], kde= True)\n",
    "plt.title('Distribuição de Scores')\n",
    "plt.xlabel('Score')\n",
    "plt.ylabel('Contagem')\n",
    "plt.show()"
   ]
  },
  {
   "cell_type": "markdown",
   "id": "c8feeccf",
   "metadata": {},
   "source": [
    "### Visualizando a distribuição das Variáveis Qualitativas "
   ]
  },
  {
   "cell_type": "code",
   "execution_count": 18,
   "id": "55f72ead",
   "metadata": {},
   "outputs": [
    {
     "data": {
      "image/png": "[encoded data removed]",
      "text/plain": [
       "<Figure size 800x600 with 1 Axes>"
      ]
     },
     "metadata": {},
     "output_type": "display_data"
    }
   ],
   "source": [
    "# Distribuição de Gênero\n",
    "plt.figure(figsize=(8,6))\n",
    "sns.countplot(data= df_dsa, x= 'Genero')\n",
    "plt.title('Distribuição de Gênero')\n",
    "plt.xlabel('Gênero')\n",
    "plt.ylabel('Contagem')\n",
    "plt.show()"
   ]
  },
  {
   "cell_type": "code",
   "execution_count": 19,
   "id": "d15413ed",
   "metadata": {},
   "outputs": [
    {
     "data": {
      "image/png": "[encoded data removed]",
      "text/plain": [
       "<Figure size 800x600 with 1 Axes>"
      ]
     },
     "metadata": {},
     "output_type": "display_data"
    }
   ],
   "source": [
    "# Distribuição de Escolaridade \n",
    "plt.figure(figsize= (8,6))\n",
    "sns.countplot(data= df_dsa, x= 'Escolaridade', order= ['Fundamental', 'Médio', 'Superior'])\n",
    "plt.title('Distribuição de Escolaridade')\n",
    "plt.xlabel('Escolaridade')\n",
    "plt.ylabel('Contagem')\n",
    "plt.show()"
   ]
  },
  {
   "cell_type": "markdown",
   "id": "2c27afc0",
   "metadata": {},
   "source": [
    "### Correlação entre variáveis numéricas \n",
    "\n",
    "A correlação entre variáveis numéricas quantitativas nos permite entender como uma variavel se move em relação à outra. O método mais comum para calcular a correção entre as variáveis é usando coeficiente de correlação de Pearson, que varia entre -1 e 1.\n",
    "\n",
    "\n",
    "- Quanto mais próximo de 1, mais forte é a correlação positiva.\n",
    "- Quanto mais próximo de -1, mais forte é a correlação negativa.\n",
    "- Próximo de 0 indica pouca ou nenhuma correlação.\n",
    "\n",
    "Vamos calcular a matriz de correlação e depois visualiza-la em um mapa de calor:"
   ]
  },
  {
   "cell_type": "code",
   "execution_count": 20,
   "id": "434b453f",
   "metadata": {},
   "outputs": [],
   "source": [
    "# Calculando a matriz de correlação apenas para as variáveis quantitativas \n",
    "correlation_matrix = df_dsa[['Idade', 'Salario', 'Score_Exame_Psicotecnico']].corr()"
   ]
  },
  {
   "cell_type": "code",
   "execution_count": 21,
   "id": "539691d0",
   "metadata": {},
   "outputs": [
    {
     "data": {
      "image/png": "[encoded data removed]",
      "text/plain": [
       "<Figure size 800x800 with 2 Axes>"
      ]
     },
     "metadata": {},
     "output_type": "display_data"
    }
   ],
   "source": [
    "# Visualizando a matriz de correlação com um heatmap\n",
    "plt.figure(figsize=(8,8));\n",
    "sns.heatmap(correlation_matrix, annot=True, cmap= 'coolwarm', vmin= -1, vmax= 1)\n",
    "plt.title('Correlação entre variáveis quantitativas')\n",
    "plt.show()"
   ]
  },
  {
   "cell_type": "markdown",
   "id": "b03f111d",
   "metadata": {},
   "source": [
    "### Associação entre variáveis Qualitativas \n",
    "\n",
    "Para variáveis categóricas usamos associação (e não correlação) para analisar a relação entre as variáveis. Vejamos algumas técnicas de associação.\n",
    "\n",
    "__Tabela de Contigência:__ é basicamente uma tabela cruzada (crosstab) que mostra a frequencia (ou contagem) de observações em cada categoria para duas variaveis."
   ]
  },
  {
   "cell_type": "code",
   "execution_count": 22,
   "id": "0fb6df7a",
   "metadata": {},
   "outputs": [],
   "source": [
    "# Tabela de Contigência\n",
    "tabela_contigencia = pd.crosstab(df_dsa['Genero'], df_dsa['Escolaridade'])"
   ]
  },
  {
   "cell_type": "code",
   "execution_count": 23,
   "id": "fb6ce8f1",
   "metadata": {},
   "outputs": [
    {
     "name": "stdout",
     "output_type": "stream",
     "text": [
      "Escolaridade  Fundamental  Médio  Superior\n",
      "Genero                                    \n",
      "Feminino               31     90        48\n",
      "Masculino              32     95        39\n",
      "Outro                  35     89        41\n"
     ]
    }
   ],
   "source": [
    "print(tabela_contigencia)"
   ]
  },
  {
   "cell_type": "markdown",
   "id": "c375a8b4",
   "metadata": {},
   "source": [
    "__Teste do Qui-Quadrado:__ É usado para testar a independência entre duas variáveis categóricas.\n",
    "\n",
    "O Teste do Qui-Quadrado é uma tecnica estatistica que é usada para determinar se há uma associação significativa entre duas variaveis categóricas em conjunto de dados. Existem várias hipóteses associadas ao teste do qui-quadrado:\n",
    "\n",
    "_Hipótese Nula (H0):_ A hipótese nula afirma que não há associação significativa entre as duas variaveis categóricas no conjunto de dados. Em outras palavras, as duas variaveis são independentes uma da outra.\n",
    "\n",
    "_Hipóste Alternativa (H1 ou Ha):_ A hipótese alternativa é a negação da hipótese nula. Ela sugere que há uma associação significativa entre as duas variaveis categóricas no conjunto de dados. Em termos simples, as duas variáveis não são independentes.\n",
    "\n",
    "Aplicamos o teste e analisamos o valor-p. Se o valor-p for menor que um nivel de significância (geralmente 0.05), podemos rejeitar a hipótese nula de que as variaveis são independentes."
   ]
  },
  {
   "cell_type": "code",
   "execution_count": 24,
   "id": "15a89356",
   "metadata": {},
   "outputs": [],
   "source": [
    "# Carrega a função chi2_contigency\n",
    "from scipy.stats import chi2_contingency"
   ]
  },
  {
   "cell_type": "code",
   "execution_count": 25,
   "id": "c638c68a",
   "metadata": {},
   "outputs": [],
   "source": [
    "# Aplica a função chi2_contigency\n",
    "chi2, p, _, _ = chi2_contingency(tabela_contigencia)"
   ]
  },
  {
   "cell_type": "code",
   "execution_count": 26,
   "id": "3911b143",
   "metadata": {},
   "outputs": [
    {
     "name": "stdout",
     "output_type": "stream",
     "text": [
      "Valor-p do teste Qui-quadrado: 0.8300\n"
     ]
    }
   ],
   "source": [
    "print(f\"Valor-p do teste Qui-quadrado: {p:.4f}\")"
   ]
  },
  {
   "cell_type": "markdown",
   "id": "d80f1380",
   "metadata": {},
   "source": [
    "Neste caso falhamos em rejeitar a H0. Provavelmente as duas variáveis são independentes uma da outra."
   ]
  },
  {
   "cell_type": "markdown",
   "id": "62539d4c",
   "metadata": {},
   "source": [
    "__Coeficiente de Contigência de Cramér (V):__ Mede a força da associação entre duas variaveis nominais. Seu valor varia de 0 (sem associação) a 1 (associação perfeita). É baseado no valor do qui-quadrado."
   ]
  },
  {
   "cell_type": "code",
   "execution_count": 27,
   "id": "7e0a456b",
   "metadata": {},
   "outputs": [
    {
     "name": "stdout",
     "output_type": "stream",
     "text": [
      "Coeficiente de Cramér V: 0.0385\n"
     ]
    }
   ],
   "source": [
    "# Calculando o Coeficiente de Contigência de Cramér\n",
    "n = tabela_contigencia.sum().sum()\n",
    "phi2 = chi2 / n\n",
    "r, k = tabela_contigencia.shape\n",
    "cramers_v = np.sqrt(phi2 / min(r-1, k-1))\n",
    "print(f\"Coeficiente de Cramér V: {cramers_v:.4f}\")"
   ]
  },
  {
   "cell_type": "markdown",
   "id": "c2ee5455",
   "metadata": {},
   "source": [
    "Provavelmente não há associação entre as variáveis."
   ]
  },
  {
   "cell_type": "markdown",
   "id": "d3bd553b",
   "metadata": {},
   "source": [
    "### Técnicas de Pré-Processamento de Dados\n",
    "\n",
    "Até aqui analisamos e exploramos os dados. Usamos o resultado desse trabalho para decidir o tipo de processamento que devemos realizar. \n",
    "Começaremos pelo tratamento de valores ausentes, duplicatas e valores negativos."
   ]
  },
  {
   "cell_type": "markdown",
   "id": "3ba945e5",
   "metadata": {},
   "source": [
    "### Valores Duplicados"
   ]
  },
  {
   "cell_type": "code",
   "execution_count": 28,
   "id": "57c5fccc",
   "metadata": {},
   "outputs": [],
   "source": [
    "# Usamos o método duplicated() para criar uma serie de valores booleanos indicando duplicatas\n",
    "duplicatas = df_dsa.duplicated()"
   ]
  },
  {
   "cell_type": "code",
   "execution_count": 29,
   "id": "675192cf",
   "metadata": {},
   "outputs": [
    {
     "data": {
      "text/html": [
       "<div>\n",
       "<style scoped>\n",
       "    .dataframe tbody tr th:only-of-type {\n",
       "        vertical-align: middle;\n",
       "    }\n",
       "\n",
       "    .dataframe tbody tr th {\n",
       "        vertical-align: top;\n",
       "    }\n",
       "\n",
       "    .dataframe thead th {\n",
       "        text-align: right;\n",
       "    }\n",
       "</style>\n",
       "<table border=\"1\" class=\"dataframe\">\n",
       "  <thead>\n",
       "    <tr style=\"text-align: right;\">\n",
       "      <th></th>\n",
       "      <th>Idade</th>\n",
       "      <th>Salario</th>\n",
       "      <th>Genero</th>\n",
       "      <th>Escolaridade</th>\n",
       "      <th>Score_Exame_Psicotecnico</th>\n",
       "    </tr>\n",
       "  </thead>\n",
       "  <tbody>\n",
       "  </tbody>\n",
       "</table>\n",
       "</div>"
      ],
      "text/plain": [
       "Empty DataFrame\n",
       "Columns: [Idade, Salario, Genero, Escolaridade, Score_Exame_Psicotecnico]\n",
       "Index: []"
      ]
     },
     "execution_count": 29,
     "metadata": {},
     "output_type": "execute_result"
    }
   ],
   "source": [
    "# Exibe linhas duplicadas \n",
    "df_dsa[duplicatas]"
   ]
  },
  {
   "cell_type": "markdown",
   "id": "a6af0f99",
   "metadata": {},
   "source": [
    "### Valores Negativos"
   ]
  },
  {
   "cell_type": "code",
   "execution_count": 30,
   "id": "56336c05",
   "metadata": {},
   "outputs": [
    {
     "data": {
      "text/html": [
       "<div>\n",
       "<style scoped>\n",
       "    .dataframe tbody tr th:only-of-type {\n",
       "        vertical-align: middle;\n",
       "    }\n",
       "\n",
       "    .dataframe tbody tr th {\n",
       "        vertical-align: top;\n",
       "    }\n",
       "\n",
       "    .dataframe thead th {\n",
       "        text-align: right;\n",
       "    }\n",
       "</style>\n",
       "<table border=\"1\" class=\"dataframe\">\n",
       "  <thead>\n",
       "    <tr style=\"text-align: right;\">\n",
       "      <th></th>\n",
       "      <th>Idade</th>\n",
       "      <th>Salario</th>\n",
       "      <th>Genero</th>\n",
       "      <th>Escolaridade</th>\n",
       "      <th>Score_Exame_Psicotecnico</th>\n",
       "    </tr>\n",
       "  </thead>\n",
       "  <tbody>\n",
       "    <tr>\n",
       "      <th>94</th>\n",
       "      <td>20</td>\n",
       "      <td>-619.478622</td>\n",
       "      <td>Masculino</td>\n",
       "      <td>Médio</td>\n",
       "      <td>58.0</td>\n",
       "    </tr>\n",
       "    <tr>\n",
       "      <th>358</th>\n",
       "      <td>21</td>\n",
       "      <td>-2984.433215</td>\n",
       "      <td>Masculino</td>\n",
       "      <td>Médio</td>\n",
       "      <td>43.0</td>\n",
       "    </tr>\n",
       "    <tr>\n",
       "      <th>380</th>\n",
       "      <td>20</td>\n",
       "      <td>-3254.849042</td>\n",
       "      <td>Outro</td>\n",
       "      <td>Médio</td>\n",
       "      <td>50.0</td>\n",
       "    </tr>\n",
       "  </tbody>\n",
       "</table>\n",
       "</div>"
      ],
      "text/plain": [
       "     Idade      Salario     Genero Escolaridade  Score_Exame_Psicotecnico\n",
       "94      20  -619.478622  Masculino        Médio                      58.0\n",
       "358     21 -2984.433215  Masculino        Médio                      43.0\n",
       "380     20 -3254.849042      Outro        Médio                      50.0"
      ]
     },
     "execution_count": 30,
     "metadata": {},
     "output_type": "execute_result"
    }
   ],
   "source": [
    "# Verificamos valores negativos na coluna Salario\n",
    "df_dsa[df_dsa['Salario']< 0 ]"
   ]
  },
  {
   "cell_type": "markdown",
   "id": "29053a70",
   "metadata": {},
   "source": [
    "    Valores negativos na variável Salário seráo convertidos em valores ausentes e então faremos o tratamento de valores ausentes."
   ]
  },
  {
   "cell_type": "code",
   "execution_count": 31,
   "id": "ca5641e6",
   "metadata": {},
   "outputs": [],
   "source": [
    "# Substituimos valores negativos por NaN (valores ausentes)\n",
    "df_dsa['Salario'] = df_dsa['Salario'].apply(lambda x: x if x >= 0 else None)"
   ]
  },
  {
   "cell_type": "code",
   "execution_count": 32,
   "id": "d95ee1a7",
   "metadata": {},
   "outputs": [
    {
     "data": {
      "text/html": [
       "<div>\n",
       "<style scoped>\n",
       "    .dataframe tbody tr th:only-of-type {\n",
       "        vertical-align: middle;\n",
       "    }\n",
       "\n",
       "    .dataframe tbody tr th {\n",
       "        vertical-align: top;\n",
       "    }\n",
       "\n",
       "    .dataframe thead th {\n",
       "        text-align: right;\n",
       "    }\n",
       "</style>\n",
       "<table border=\"1\" class=\"dataframe\">\n",
       "  <thead>\n",
       "    <tr style=\"text-align: right;\">\n",
       "      <th></th>\n",
       "      <th>Idade</th>\n",
       "      <th>Salario</th>\n",
       "      <th>Genero</th>\n",
       "      <th>Escolaridade</th>\n",
       "      <th>Score_Exame_Psicotecnico</th>\n",
       "    </tr>\n",
       "  </thead>\n",
       "  <tbody>\n",
       "  </tbody>\n",
       "</table>\n",
       "</div>"
      ],
      "text/plain": [
       "Empty DataFrame\n",
       "Columns: [Idade, Salario, Genero, Escolaridade, Score_Exame_Psicotecnico]\n",
       "Index: []"
      ]
     },
     "execution_count": 32,
     "metadata": {},
     "output_type": "execute_result"
    }
   ],
   "source": [
    "# Verificamos valores negativos na coluna Salario\n",
    "df_dsa[df_dsa['Salario']< 0 ]"
   ]
  },
  {
   "cell_type": "markdown",
   "id": "04fda49c",
   "metadata": {},
   "source": [
    "### Valores Ausentes"
   ]
  },
  {
   "cell_type": "code",
   "execution_count": 33,
   "id": "000a43d0",
   "metadata": {},
   "outputs": [
    {
     "data": {
      "image/png": "[encoded data removed]",
      "text/plain": [
       "<Figure size 1000x600 with 1 Axes>"
      ]
     },
     "metadata": {},
     "output_type": "display_data"
    }
   ],
   "source": [
    "# Mapa de valores ausentes\n",
    "msno.matrix(df_dsa, figsize= (10,6), sparkline= False)\n",
    "plt.show()"
   ]
  },
  {
   "cell_type": "markdown",
   "id": "695cdb0b",
   "metadata": {},
   "source": [
    "Neste grafico, a presença de dados é representada por barras escuras e os valores ausentes são representados por espaços em branco. O lado direito do gráfico fornece um grafico de barras que indica a quantidade total ed valores presentes para cada variável."
   ]
  },
  {
   "cell_type": "code",
   "execution_count": 34,
   "id": "09ce2a59",
   "metadata": {},
   "outputs": [],
   "source": [
    "# Usamos o método isna() para verificar valores ausentes em cada coluna\n",
    "valores_ausentes = df_dsa.isna().sum()"
   ]
  },
  {
   "cell_type": "code",
   "execution_count": 35,
   "id": "f58bdaa1",
   "metadata": {},
   "outputs": [
    {
     "name": "stdout",
     "output_type": "stream",
     "text": [
      "Idade                        0\n",
      "Salario                     53\n",
      "Genero                       0\n",
      "Escolaridade                 0\n",
      "Score_Exame_Psicotecnico    30\n",
      "dtype: int64\n"
     ]
    }
   ],
   "source": [
    "print(valores_ausentes)"
   ]
  },
  {
   "cell_type": "code",
   "execution_count": 36,
   "id": "7373abc4",
   "metadata": {},
   "outputs": [],
   "source": [
    "# Calcular a porcentagem de valores ausentes em cada coluna\n",
    "porcentagem_ausentes = (df_dsa.isna().mean() * 100).round(2)"
   ]
  },
  {
   "cell_type": "code",
   "execution_count": 37,
   "id": "534dc80d",
   "metadata": {},
   "outputs": [
    {
     "name": "stdout",
     "output_type": "stream",
     "text": [
      "Idade                        0.0\n",
      "Salario                     10.6\n",
      "Genero                       0.0\n",
      "Escolaridade                 0.0\n",
      "Score_Exame_Psicotecnico     6.0\n",
      "dtype: float64\n"
     ]
    }
   ],
   "source": [
    "print(porcentagem_ausentes)"
   ]
  },
  {
   "cell_type": "markdown",
   "id": "f16bc847",
   "metadata": {},
   "source": [
    "### Estratégias de Tratamento de Valores Ausentes \n",
    "\n",
    "Quando você tem uma variável com valores ausentes, como nesse caso em que a variavel \"salário\" tem 10% de valores ausentes, existem várias estratégias que você pode considerar para lidar com esses valores ausentes. A escolha da estratégia depende do contexto dos seus dados e do objetivo da analise.\n",
    "Algumas das estratégias comuns incluem:\n",
    "\n",
    "__Remoção de linhas:__ Você pode optar por remover as linhas que contém valores ausentes na coluna \"Salário\". Isso é apropriado se a quantidade de dados faltantes for pequena em relação ao tamanho total do conjunto de dados e se a remoção não introduzir viés nos seus resultados. No entanto, essa estratégia pode levar à perda de informações.\n",
    "\n",
    "__Preenchimento com valor padrão:__ Dependendo do contexto, você pode optar por preencher os valores ausentes com um valor padrão, como a média, a mediana ou um valor especifico. Isso pode ser apropriado se você acredita que os valores ausentes não são criticos e que um valor padrão não afetará significativamente a análise.\n",
    "\n",
    "__Preenchimento com base em outras variáveis:__ Às vezes, você pode usar informações de outras variaveis do dataset para preencher os valores ausentes de \"salário\". Por exemplo, você pode preencher com a média dos salários de pessoas com a mesma escolaridade ou mesmo gênero.\n",
    "\n",
    "__Modelo de Previsão:__ Se a variavel \"salário\" for importante e os valores ausentes não puderem ser facilmente preenchidos com médias ou valores padrão, você pode criar um modelo preditivo para estimar os valores ausentes com base em outras variaveis relevantes. Isso é mais complexo, mas pode ser uma abordagem poderosa se você tiver dados suficientes e a variavel \"Salário\" for fundamental para analise."
   ]
  },
  {
   "cell_type": "markdown",
   "id": "df2ee111",
   "metadata": {},
   "source": [
    "### Teste de Normalidade para decidir a Estratégia de Tratamento de Valores Ausentes\n",
    "\n",
    "Para preencher os valores ausentes com a média devemos verificar se a variavel segue uma distribuição normal. Se a variável seguir uma distribuição normal, podemos usar a média ou a mediana. Caso contrário devemos usar a mediana."
   ]
  },
  {
   "cell_type": "code",
   "execution_count": 38,
   "id": "65ab26c4",
   "metadata": {},
   "outputs": [
    {
     "name": "stdout",
     "output_type": "stream",
     "text": [
      "Estátistica de teste: nan\n",
      "Valor-p: 1.0\n",
      "Não há evidências para rejeitar a hipótese nula (Os dados parecem seguir uma distribuição normal).\n"
     ]
    }
   ],
   "source": [
    "from scipy import stats\n",
    "\n",
    "# Extraia a coluna \"salario\" em uma série\n",
    "salario = df_dsa['Salario']\n",
    "\n",
    "# Aplique o teste de Shapiro-Wilk\n",
    "stat, p_valor = stats.shapiro(salario)\n",
    "\n",
    "# Imprima o resultado do teste\n",
    "print(f\"Estátistica de teste: {stat}\")\n",
    "print(f\"Valor-p: {p_valor}\")\n",
    "\n",
    "# Verifique a hipótese nula com base no p-valor\n",
    "alfa = 0.05 # Nivel de significância\n",
    "if p_valor > alfa:\n",
    "  print(\"Não há evidências para rejeitar a hipótese nula (Os dados parecem seguir uma distribuição normal).\")\n",
    "else:\n",
    "  print(\"A hipótese nula é rejeitada (Os dados não seguem uma distribuição normal).\")"
   ]
  },
  {
   "cell_type": "markdown",
   "id": "af2cb9c5",
   "metadata": {},
   "source": [
    "    Podemos então usar a média e preencher os valores ausentes. Essa técnica é chamada de imputação."
   ]
  },
  {
   "cell_type": "markdown",
   "id": "39e0e246",
   "metadata": {},
   "source": [
    "### Imputação para Tratamento de Valores Ausentes"
   ]
  },
  {
   "cell_type": "code",
   "execution_count": 39,
   "id": "b04eeec4",
   "metadata": {},
   "outputs": [],
   "source": [
    "# Calculamos a média da variavel \"Salario\" (ignorando os valores ausentes)\n",
    "media_salario = df_dsa['Salario'].mean()"
   ]
  },
  {
   "cell_type": "code",
   "execution_count": 40,
   "id": "b1004ac9",
   "metadata": {},
   "outputs": [],
   "source": [
    "# Preenchemos os valores ausentes em \"salario\" com a media\n",
    "df_dsa['Salario'].fillna(media_salario, inplace= True)"
   ]
  },
  {
   "cell_type": "code",
   "execution_count": 41,
   "id": "0e7a8262",
   "metadata": {},
   "outputs": [
    {
     "name": "stdout",
     "output_type": "stream",
     "text": [
      "Idade                        0\n",
      "Salario                      0\n",
      "Genero                       0\n",
      "Escolaridade                 0\n",
      "Score_Exame_Psicotecnico    30\n",
      "dtype: int64\n"
     ]
    }
   ],
   "source": [
    "# Usamos o método isna() para verificar os valores ausentes em cada coluna\n",
    "valores_ausentes = df_dsa.isna().sum()\n",
    "print(valores_ausentes)"
   ]
  },
  {
   "cell_type": "code",
   "execution_count": 42,
   "id": "415dad00",
   "metadata": {},
   "outputs": [
    {
     "name": "stdout",
     "output_type": "stream",
     "text": [
      "Estatistica de teste: nan\n",
      "Valor-p: 1.0\n",
      "Não há evidências para rejeitar a hipotese nula (os dados parecem seguir uma distribuição normal).\n"
     ]
    }
   ],
   "source": [
    "from scipy import stats\n",
    "\n",
    "# Extraia a coluna \"Score\" em uma série \n",
    "score_exame = df_dsa['Score_Exame_Psicotecnico']\n",
    "\n",
    "# Aplique o teste Shapiro-Wilk\n",
    "stat, p_valor = stats.shapiro(score_exame)\n",
    "\n",
    "# Imprima o resultado do teste\n",
    "print(f\"Estatistica de teste: {stat}\")\n",
    "print(f\"Valor-p: {p_valor}\")\n",
    "\n",
    "# Verifique a hipótese nula com base no p-valor\n",
    "alfa = 0.05 # Nivel de significância\n",
    "if p_valor > alfa:\n",
    "  print(\"Não há evidências para rejeitar a hipotese nula (os dados parecem seguir uma distribuição normal).\")\n",
    "else:\n",
    "  print(\"A hipótese nula é rejeitada (os dados não seguem uma distribuição normal).\")"
   ]
  },
  {
   "cell_type": "markdown",
   "id": "2180493a",
   "metadata": {},
   "source": [
    "    Podemos então usar a média e preencher os valores ausentes. Essa técnica é chamada de imputação."
   ]
  },
  {
   "cell_type": "code",
   "execution_count": 43,
   "id": "914ee29a",
   "metadata": {},
   "outputs": [],
   "source": [
    "# Calculamos a média da variavel \"Score\" (ignorando os valores ausentes)\n",
    "media_score = df_dsa['Score_Exame_Psicotecnico'].mean()"
   ]
  },
  {
   "cell_type": "code",
   "execution_count": 44,
   "id": "757d72bb",
   "metadata": {},
   "outputs": [],
   "source": [
    "# Preenchemos os valores ausentes em \"Score\" com a média\n",
    "df_dsa['Score_Exame_Psicotecnico'].fillna(media_score, inplace= True)"
   ]
  },
  {
   "cell_type": "code",
   "execution_count": 45,
   "id": "5f49bfba",
   "metadata": {},
   "outputs": [
    {
     "name": "stdout",
     "output_type": "stream",
     "text": [
      "Idade                       0\n",
      "Salario                     0\n",
      "Genero                      0\n",
      "Escolaridade                0\n",
      "Score_Exame_Psicotecnico    0\n",
      "dtype: int64\n"
     ]
    }
   ],
   "source": [
    "# Usamos o método isna() para verificar os valores ausentes de cada coluna\n",
    "valores_ausentes = df_dsa.isna().sum()\n",
    "print(valores_ausentes)"
   ]
  },
  {
   "cell_type": "markdown",
   "id": "8513192e",
   "metadata": {},
   "source": [
    "    Vimos que há correlação entre Idade e Salário. Mas se mudarmos a variavel Idade para Faixa_Etaria, essa relação se confirma ?"
   ]
  },
  {
   "cell_type": "markdown",
   "id": "b1f8a7ff",
   "metadata": {},
   "source": [
    "### Teste Estátistico de relação entre Variável Quantitativa e Qualitativa"
   ]
  },
  {
   "cell_type": "code",
   "execution_count": 46,
   "id": "7149cf27",
   "metadata": {},
   "outputs": [],
   "source": [
    "# Definimos as faixas etárias desejadas em ordem crescente\n",
    "faixas_etarias = [0, 25, 35, 45, 55, float('inf')]"
   ]
  },
  {
   "cell_type": "code",
   "execution_count": 47,
   "id": "30b2c488",
   "metadata": {},
   "outputs": [],
   "source": [
    "# Definimos os rótulos para as faixas etárias\n",
    "rotulos_faixas =  [ 'Menos de 25', '25-34', '35-44','45-54','55 ou mais']"
   ]
  },
  {
   "cell_type": "code",
   "execution_count": 48,
   "id": "f821e006",
   "metadata": {},
   "outputs": [],
   "source": [
    "# Usamos a função pd.cut() para criar a variável de faixa etária\n",
    "df_dsa['Faixa_Etaria'] = pd.cut(df_dsa['Idade'], bins = faixas_etarias, labels= rotulos_faixas)"
   ]
  },
  {
   "cell_type": "code",
   "execution_count": 49,
   "id": "5db1afe6",
   "metadata": {},
   "outputs": [
    {
     "data": {
      "text/html": [
       "<div>\n",
       "<style scoped>\n",
       "    .dataframe tbody tr th:only-of-type {\n",
       "        vertical-align: middle;\n",
       "    }\n",
       "\n",
       "    .dataframe tbody tr th {\n",
       "        vertical-align: top;\n",
       "    }\n",
       "\n",
       "    .dataframe thead th {\n",
       "        text-align: right;\n",
       "    }\n",
       "</style>\n",
       "<table border=\"1\" class=\"dataframe\">\n",
       "  <thead>\n",
       "    <tr style=\"text-align: right;\">\n",
       "      <th></th>\n",
       "      <th>Idade</th>\n",
       "      <th>Salario</th>\n",
       "      <th>Genero</th>\n",
       "      <th>Escolaridade</th>\n",
       "      <th>Score_Exame_Psicotecnico</th>\n",
       "      <th>Faixa_Etaria</th>\n",
       "    </tr>\n",
       "  </thead>\n",
       "  <tbody>\n",
       "    <tr>\n",
       "      <th>0</th>\n",
       "      <td>58</td>\n",
       "      <td>30404.959339</td>\n",
       "      <td>Masculino</td>\n",
       "      <td>Médio</td>\n",
       "      <td>56.000000</td>\n",
       "      <td>55 ou mais</td>\n",
       "    </tr>\n",
       "    <tr>\n",
       "      <th>1</th>\n",
       "      <td>48</td>\n",
       "      <td>20886.502401</td>\n",
       "      <td>Feminino</td>\n",
       "      <td>Médio</td>\n",
       "      <td>61.565957</td>\n",
       "      <td>45-54</td>\n",
       "    </tr>\n",
       "    <tr>\n",
       "      <th>2</th>\n",
       "      <td>34</td>\n",
       "      <td>15959.388748</td>\n",
       "      <td>Masculino</td>\n",
       "      <td>Médio</td>\n",
       "      <td>57.000000</td>\n",
       "      <td>25-34</td>\n",
       "    </tr>\n",
       "    <tr>\n",
       "      <th>3</th>\n",
       "      <td>62</td>\n",
       "      <td>28534.995327</td>\n",
       "      <td>Outro</td>\n",
       "      <td>Superior</td>\n",
       "      <td>68.000000</td>\n",
       "      <td>55 ou mais</td>\n",
       "    </tr>\n",
       "    <tr>\n",
       "      <th>4</th>\n",
       "      <td>27</td>\n",
       "      <td>10553.176215</td>\n",
       "      <td>Outro</td>\n",
       "      <td>Fundamental</td>\n",
       "      <td>44.000000</td>\n",
       "      <td>25-34</td>\n",
       "    </tr>\n",
       "  </tbody>\n",
       "</table>\n",
       "</div>"
      ],
      "text/plain": [
       "   Idade       Salario     Genero Escolaridade  Score_Exame_Psicotecnico  \\\n",
       "0     58  30404.959339  Masculino        Médio                 56.000000   \n",
       "1     48  20886.502401   Feminino        Médio                 61.565957   \n",
       "2     34  15959.388748  Masculino        Médio                 57.000000   \n",
       "3     62  28534.995327      Outro     Superior                 68.000000   \n",
       "4     27  10553.176215      Outro  Fundamental                 44.000000   \n",
       "\n",
       "  Faixa_Etaria  \n",
       "0   55 ou mais  \n",
       "1        45-54  \n",
       "2        25-34  \n",
       "3   55 ou mais  \n",
       "4        25-34  "
      ]
     },
     "execution_count": 49,
     "metadata": {},
     "output_type": "execute_result"
    }
   ],
   "source": [
    "df_dsa.head()"
   ]
  },
  {
   "cell_type": "code",
   "execution_count": 50,
   "id": "80e67669",
   "metadata": {},
   "outputs": [
    {
     "name": "stdout",
     "output_type": "stream",
     "text": [
      "<class 'pandas.core.frame.DataFrame'>\n",
      "RangeIndex: 500 entries, 0 to 499\n",
      "Data columns (total 6 columns):\n",
      " #   Column                    Non-Null Count  Dtype   \n",
      "---  ------                    --------------  -----   \n",
      " 0   Idade                     500 non-null    int64   \n",
      " 1   Salario                   500 non-null    float64 \n",
      " 2   Genero                    500 non-null    object  \n",
      " 3   Escolaridade              500 non-null    object  \n",
      " 4   Score_Exame_Psicotecnico  500 non-null    float64 \n",
      " 5   Faixa_Etaria              500 non-null    category\n",
      "dtypes: category(1), float64(2), int64(1), object(2)\n",
      "memory usage: 20.4+ KB\n"
     ]
    }
   ],
   "source": [
    "df_dsa.info()"
   ]
  },
  {
   "cell_type": "code",
   "execution_count": 51,
   "id": "76df82d9",
   "metadata": {},
   "outputs": [],
   "source": [
    "# Usamos o método drop() para remover a variavel \"idade\"\n",
    "df_dsa.drop('Idade', axis= 1, inplace= True)"
   ]
  },
  {
   "cell_type": "code",
   "execution_count": 52,
   "id": "feb6d984",
   "metadata": {},
   "outputs": [
    {
     "data": {
      "text/html": [
       "<div>\n",
       "<style scoped>\n",
       "    .dataframe tbody tr th:only-of-type {\n",
       "        vertical-align: middle;\n",
       "    }\n",
       "\n",
       "    .dataframe tbody tr th {\n",
       "        vertical-align: top;\n",
       "    }\n",
       "\n",
       "    .dataframe thead th {\n",
       "        text-align: right;\n",
       "    }\n",
       "</style>\n",
       "<table border=\"1\" class=\"dataframe\">\n",
       "  <thead>\n",
       "    <tr style=\"text-align: right;\">\n",
       "      <th></th>\n",
       "      <th>Salario</th>\n",
       "      <th>Genero</th>\n",
       "      <th>Escolaridade</th>\n",
       "      <th>Score_Exame_Psicotecnico</th>\n",
       "      <th>Faixa_Etaria</th>\n",
       "    </tr>\n",
       "  </thead>\n",
       "  <tbody>\n",
       "    <tr>\n",
       "      <th>0</th>\n",
       "      <td>30404.959339</td>\n",
       "      <td>Masculino</td>\n",
       "      <td>Médio</td>\n",
       "      <td>56.000000</td>\n",
       "      <td>55 ou mais</td>\n",
       "    </tr>\n",
       "    <tr>\n",
       "      <th>1</th>\n",
       "      <td>20886.502401</td>\n",
       "      <td>Feminino</td>\n",
       "      <td>Médio</td>\n",
       "      <td>61.565957</td>\n",
       "      <td>45-54</td>\n",
       "    </tr>\n",
       "    <tr>\n",
       "      <th>2</th>\n",
       "      <td>15959.388748</td>\n",
       "      <td>Masculino</td>\n",
       "      <td>Médio</td>\n",
       "      <td>57.000000</td>\n",
       "      <td>25-34</td>\n",
       "    </tr>\n",
       "    <tr>\n",
       "      <th>3</th>\n",
       "      <td>28534.995327</td>\n",
       "      <td>Outro</td>\n",
       "      <td>Superior</td>\n",
       "      <td>68.000000</td>\n",
       "      <td>55 ou mais</td>\n",
       "    </tr>\n",
       "    <tr>\n",
       "      <th>4</th>\n",
       "      <td>10553.176215</td>\n",
       "      <td>Outro</td>\n",
       "      <td>Fundamental</td>\n",
       "      <td>44.000000</td>\n",
       "      <td>25-34</td>\n",
       "    </tr>\n",
       "  </tbody>\n",
       "</table>\n",
       "</div>"
      ],
      "text/plain": [
       "        Salario     Genero Escolaridade  Score_Exame_Psicotecnico Faixa_Etaria\n",
       "0  30404.959339  Masculino        Médio                 56.000000   55 ou mais\n",
       "1  20886.502401   Feminino        Médio                 61.565957        45-54\n",
       "2  15959.388748  Masculino        Médio                 57.000000        25-34\n",
       "3  28534.995327      Outro     Superior                 68.000000   55 ou mais\n",
       "4  10553.176215      Outro  Fundamental                 44.000000        25-34"
      ]
     },
     "execution_count": 52,
     "metadata": {},
     "output_type": "execute_result"
    }
   ],
   "source": [
    "df_dsa.head()"
   ]
  },
  {
   "cell_type": "code",
   "execution_count": 53,
   "id": "a796e7a6",
   "metadata": {},
   "outputs": [],
   "source": [
    "# Arredondamos as colunas \"Salario\" e \"Score\" para inteiros\n",
    "df_dsa['Salario'] = df_dsa['Salario'].round().astype(int)\n",
    "df_dsa['Score_Exame_Psicotecnico'] = df_dsa['Score_Exame_Psicotecnico'].round().astype(int)"
   ]
  },
  {
   "cell_type": "code",
   "execution_count": 54,
   "id": "ab02dce8",
   "metadata": {},
   "outputs": [
    {
     "data": {
      "text/html": [
       "<div>\n",
       "<style scoped>\n",
       "    .dataframe tbody tr th:only-of-type {\n",
       "        vertical-align: middle;\n",
       "    }\n",
       "\n",
       "    .dataframe tbody tr th {\n",
       "        vertical-align: top;\n",
       "    }\n",
       "\n",
       "    .dataframe thead th {\n",
       "        text-align: right;\n",
       "    }\n",
       "</style>\n",
       "<table border=\"1\" class=\"dataframe\">\n",
       "  <thead>\n",
       "    <tr style=\"text-align: right;\">\n",
       "      <th></th>\n",
       "      <th>Salario</th>\n",
       "      <th>Genero</th>\n",
       "      <th>Escolaridade</th>\n",
       "      <th>Score_Exame_Psicotecnico</th>\n",
       "      <th>Faixa_Etaria</th>\n",
       "    </tr>\n",
       "  </thead>\n",
       "  <tbody>\n",
       "    <tr>\n",
       "      <th>0</th>\n",
       "      <td>30405</td>\n",
       "      <td>Masculino</td>\n",
       "      <td>Médio</td>\n",
       "      <td>56</td>\n",
       "      <td>55 ou mais</td>\n",
       "    </tr>\n",
       "    <tr>\n",
       "      <th>1</th>\n",
       "      <td>20887</td>\n",
       "      <td>Feminino</td>\n",
       "      <td>Médio</td>\n",
       "      <td>62</td>\n",
       "      <td>45-54</td>\n",
       "    </tr>\n",
       "    <tr>\n",
       "      <th>2</th>\n",
       "      <td>15959</td>\n",
       "      <td>Masculino</td>\n",
       "      <td>Médio</td>\n",
       "      <td>57</td>\n",
       "      <td>25-34</td>\n",
       "    </tr>\n",
       "    <tr>\n",
       "      <th>3</th>\n",
       "      <td>28535</td>\n",
       "      <td>Outro</td>\n",
       "      <td>Superior</td>\n",
       "      <td>68</td>\n",
       "      <td>55 ou mais</td>\n",
       "    </tr>\n",
       "    <tr>\n",
       "      <th>4</th>\n",
       "      <td>10553</td>\n",
       "      <td>Outro</td>\n",
       "      <td>Fundamental</td>\n",
       "      <td>44</td>\n",
       "      <td>25-34</td>\n",
       "    </tr>\n",
       "  </tbody>\n",
       "</table>\n",
       "</div>"
      ],
      "text/plain": [
       "   Salario     Genero Escolaridade  Score_Exame_Psicotecnico Faixa_Etaria\n",
       "0    30405  Masculino        Médio                        56   55 ou mais\n",
       "1    20887   Feminino        Médio                        62        45-54\n",
       "2    15959  Masculino        Médio                        57        25-34\n",
       "3    28535      Outro     Superior                        68   55 ou mais\n",
       "4    10553      Outro  Fundamental                        44        25-34"
      ]
     },
     "execution_count": 54,
     "metadata": {},
     "output_type": "execute_result"
    }
   ],
   "source": [
    "df_dsa.head()"
   ]
  },
  {
   "cell_type": "code",
   "execution_count": 55,
   "id": "bf257989",
   "metadata": {},
   "outputs": [
    {
     "data": {
      "text/html": [
       "<div>\n",
       "<style scoped>\n",
       "    .dataframe tbody tr th:only-of-type {\n",
       "        vertical-align: middle;\n",
       "    }\n",
       "\n",
       "    .dataframe tbody tr th {\n",
       "        vertical-align: top;\n",
       "    }\n",
       "\n",
       "    .dataframe thead th {\n",
       "        text-align: right;\n",
       "    }\n",
       "</style>\n",
       "<table border=\"1\" class=\"dataframe\">\n",
       "  <thead>\n",
       "    <tr style=\"text-align: right;\">\n",
       "      <th></th>\n",
       "      <th>Salario</th>\n",
       "      <th>Score_Exame_Psicotecnico</th>\n",
       "    </tr>\n",
       "  </thead>\n",
       "  <tbody>\n",
       "    <tr>\n",
       "      <th>count</th>\n",
       "      <td>500.00000</td>\n",
       "      <td>500.000000</td>\n",
       "    </tr>\n",
       "    <tr>\n",
       "      <th>mean</th>\n",
       "      <td>21410.79200</td>\n",
       "      <td>61.592000</td>\n",
       "    </tr>\n",
       "    <tr>\n",
       "      <th>std</th>\n",
       "      <td>7679.06567</td>\n",
       "      <td>17.123667</td>\n",
       "    </tr>\n",
       "    <tr>\n",
       "      <th>min</th>\n",
       "      <td>642.00000</td>\n",
       "      <td>20.000000</td>\n",
       "    </tr>\n",
       "    <tr>\n",
       "      <th>25%</th>\n",
       "      <td>15888.75000</td>\n",
       "      <td>49.000000</td>\n",
       "    </tr>\n",
       "    <tr>\n",
       "      <th>50%</th>\n",
       "      <td>21411.00000</td>\n",
       "      <td>62.000000</td>\n",
       "    </tr>\n",
       "    <tr>\n",
       "      <th>75%</th>\n",
       "      <td>26729.00000</td>\n",
       "      <td>73.250000</td>\n",
       "    </tr>\n",
       "    <tr>\n",
       "      <th>max</th>\n",
       "      <td>40845.00000</td>\n",
       "      <td>100.000000</td>\n",
       "    </tr>\n",
       "  </tbody>\n",
       "</table>\n",
       "</div>"
      ],
      "text/plain": [
       "           Salario  Score_Exame_Psicotecnico\n",
       "count    500.00000                500.000000\n",
       "mean   21410.79200                 61.592000\n",
       "std     7679.06567                 17.123667\n",
       "min      642.00000                 20.000000\n",
       "25%    15888.75000                 49.000000\n",
       "50%    21411.00000                 62.000000\n",
       "75%    26729.00000                 73.250000\n",
       "max    40845.00000                100.000000"
      ]
     },
     "execution_count": 55,
     "metadata": {},
     "output_type": "execute_result"
    }
   ],
   "source": [
    "df_dsa.describe()"
   ]
  },
  {
   "cell_type": "code",
   "execution_count": 56,
   "id": "c294cb18",
   "metadata": {},
   "outputs": [
    {
     "name": "stderr",
     "output_type": "stream",
     "text": [
      "C:\\Users\\alexf\\AppData\\Local\\Temp\\ipykernel_15232\\4216115612.py:2: FutureWarning: The default of observed=False is deprecated and will be changed to True in a future version of pandas. Pass observed=False to retain current behavior or observed=True to adopt the future default and silence this warning.\n",
      "  media_salario_por_faixa_etaria = df_dsa.groupby('Faixa_Etaria')['Salario'].mean()\n"
     ]
    },
    {
     "data": {
      "text/plain": [
       "Faixa_Etaria\n",
       "Menos de 25    13108.633803\n",
       "25-34          14945.184783\n",
       "35-44          20980.654545\n",
       "45-54          24736.491935\n",
       "55 ou mais     29364.359223\n",
       "Name: Salario, dtype: float64"
      ]
     },
     "execution_count": 56,
     "metadata": {},
     "output_type": "execute_result"
    }
   ],
   "source": [
    "# Média de salário por faixa etária\n",
    "media_salario_por_faixa_etaria = df_dsa.groupby('Faixa_Etaria')['Salario'].mean()\n",
    "media_salario_por_faixa_etaria"
   ]
  },
  {
   "cell_type": "code",
   "execution_count": 57,
   "id": "528c1377",
   "metadata": {},
   "outputs": [
    {
     "name": "stderr",
     "output_type": "stream",
     "text": [
      "C:\\Users\\alexf\\AppData\\Local\\Temp\\ipykernel_15232\\1918559611.py:2: FutureWarning: The default of observed=False is deprecated and will be changed to True in a future version of pandas. Pass observed=False to retain current behavior or observed=True to adopt the future default and silence this warning.\n",
      "  mediana_salario_por_faixa_etaria = df_dsa.groupby('Faixa_Etaria')['Salario'].median()\n"
     ]
    },
    {
     "data": {
      "text/plain": [
       "Faixa_Etaria\n",
       "Menos de 25    12433.0\n",
       "25-34          15387.5\n",
       "35-44          21411.0\n",
       "45-54          24283.0\n",
       "55 ou mais     29345.0\n",
       "Name: Salario, dtype: float64"
      ]
     },
     "execution_count": 57,
     "metadata": {},
     "output_type": "execute_result"
    }
   ],
   "source": [
    "# Mediana de salario por faixa etária \n",
    "mediana_salario_por_faixa_etaria = df_dsa.groupby('Faixa_Etaria')['Salario'].median()\n",
    "mediana_salario_por_faixa_etaria"
   ]
  },
  {
   "cell_type": "code",
   "execution_count": 58,
   "id": "f9bded40",
   "metadata": {},
   "outputs": [
    {
     "name": "stderr",
     "output_type": "stream",
     "text": [
      "c:\\Users\\alexf\\anaconda3\\Lib\\site-packages\\seaborn\\categorical.py:641: FutureWarning: The default of observed=False is deprecated and will be changed to True in a future version of pandas. Pass observed=False to retain current behavior or observed=True to adopt the future default and silence this warning.\n",
      "  grouped_vals = vals.groupby(grouper)\n"
     ]
    },
    {
     "data": {
      "image/png": "[encoded data removed]",
      "text/plain": [
       "<Figure size 640x480 with 1 Axes>"
      ]
     },
     "metadata": {},
     "output_type": "display_data"
    }
   ],
   "source": [
    "# Boxplots\n",
    "sns.boxplot(x= 'Faixa_Etaria', y= 'Salario', data= df_dsa)\n",
    "plt.xticks(rotation = 45)\n",
    "plt.show()"
   ]
  },
  {
   "cell_type": "code",
   "execution_count": 60,
   "id": "050a08c9",
   "metadata": {},
   "outputs": [
    {
     "name": "stdout",
     "output_type": "stream",
     "text": [
      "F_onewayResult(statistic=161.2243336211642, pvalue=3.0889235972800835e-88)\n",
      "Há evidências de diferenças significativas nas médias de salário entre as faixas etárias.\n"
     ]
    },
    {
     "name": "stderr",
     "output_type": "stream",
     "text": [
      "C:\\Users\\alexf\\AppData\\Local\\Temp\\ipykernel_15232\\1441057548.py:7: FutureWarning: The default of observed=False is deprecated and will be changed to True in a future version of pandas. Pass observed=False to retain current behavior or observed=True to adopt the future default and silence this warning.\n",
      "  resultado_anova = stats.f_oneway(*[grupo['Salario'] for nome, grupo in df_dsa.groupby('Faixa_Etaria')])\n"
     ]
    }
   ],
   "source": [
    "# Teste ANOVA\n",
    "\n",
    "# Import \n",
    "import scipy.stats as stats\n",
    "\n",
    "# Realize um teste de ANOVA para verificar as diferenças nas médias\n",
    "resultado_anova = stats.f_oneway(*[grupo['Salario'] for nome, grupo in df_dsa.groupby('Faixa_Etaria')])\n",
    "print(resultado_anova)\n",
    "\n",
    "\n",
    "# Verifique o resultado do teste\n",
    "if resultado_anova.pvalue < 0.05:\n",
    "  print(\"Há evidências de diferenças significativas nas médias de salário entre as faixas etárias.\")\n",
    "else:\n",
    "  print(\"Não há evidências de diferenças significativas nas médias de salário entre as faixas etárias.\")  \n"
   ]
  },
  {
   "cell_type": "markdown",
   "id": "3aa7843d",
   "metadata": {},
   "source": [
    "    Sim, a relação realmente existe entre Idade e Salário"
   ]
  },
  {
   "cell_type": "markdown",
   "id": "69c9fe42",
   "metadata": {},
   "source": [
    "### Relatório Final\n",
    "\n",
    "Com base em nossa analise observamos que:\n",
    "\n",
    "- A variavel Salário apresenta valores negativos. Como não temos mais detalhes sobre isso, decidimos converter de valor negativo para valor ausente.\n",
    "- As variaveis Salario e Score apresentavam problemas de valores ausentes.\n",
    "- Tratamos os valores ausentes com a imputação da média pois as duas variáveis seguem uma distribuição normal.\n",
    "- Identificamos que não há relação entre as variáveis gênero e escolaridade, ou seja, elas são independentes.\n",
    "- Verificamos que há relação entre Idade e Salario, independente do valor individual da idade ou de faixa etária.\n",
    "- Nossas conclusões e decisões foram baseadas em testes estatisticos."
   ]
  },
  {
   "cell_type": "code",
   "execution_count": 61,
   "id": "f8205fe3",
   "metadata": {},
   "outputs": [],
   "source": [
    "#%watermark -a \"Alex Felipe Barbosa\""
   ]
  },
  {
   "cell_type": "code",
   "execution_count": 62,
   "id": "96f87f59",
   "metadata": {},
   "outputs": [],
   "source": [
    "#%watermark"
   ]
  },
  {
   "cell_type": "code",
   "execution_count": 63,
   "id": "f238d670",
   "metadata": {},
   "outputs": [],
   "source": [
    "#%watermark --iversions"
   ]
  },
  {
   "cell_type": "markdown",
   "id": "7a452e00",
   "metadata": {},
   "source": [
    "## FIM"
   ]
  }
 ],
 "metadata": {
  "kernelspec": {
   "display_name": "base",
   "language": "python",
   "name": "python3"
  },
  "language_info": {
   "codemirror_mode": {
    "name": "ipython",
    "version": 3
   },
   "file_extension": ".py",
   "mimetype": "text/x-python",
   "name": "python",
   "nbconvert_exporter": "python",
   "pygments_lexer": "ipython3",
   "version": "3.11.7"
  }
 },
 "nbformat": 4,
 "nbformat_minor": 5
}
