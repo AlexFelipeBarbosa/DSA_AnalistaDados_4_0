{
 "cells": [
  {
   "cell_type": "markdown",
   "id": "e034aeaf",
   "metadata": {},
   "source": [
    "## Alex Felipe Barbosa - 07/07/2025\n",
    "### Data Science Academy \n",
    "### Projetos de Analise de Dados com Linguagem Python\n",
    "\n",
    "### Projeto 1 - Extraindo e Analisando Dados de Banco de Dados"
   ]
  },
  {
   "cell_type": "markdown",
   "id": "f25d5f65",
   "metadata": {},
   "source": [
    "Pacotes Python utilizados no Projeto"
   ]
  },
  {
   "cell_type": "code",
   "execution_count": 2,
   "id": "41c46f96",
   "metadata": {},
   "outputs": [],
   "source": [
    "# Instala o pacote watermaark\n",
    "!pip install -q -U watermark"
   ]
  },
  {
   "cell_type": "code",
   "execution_count": 3,
   "id": "e9eb6b2d",
   "metadata": {},
   "outputs": [],
   "source": [
    "# Instala o pacote iPython-sql\n",
    "!pip install -q ipython-sql"
   ]
  },
  {
   "cell_type": "code",
   "execution_count": 4,
   "id": "0f8f586d",
   "metadata": {},
   "outputs": [],
   "source": [
    "# Imports \n",
    "import os\n",
    "import pandas as pd\n",
    "import sqlite3"
   ]
  }
 ],
 "metadata": {
  "kernelspec": {
   "display_name": "base",
   "language": "python",
   "name": "python3"
  },
  "language_info": {
   "codemirror_mode": {
    "name": "ipython",
    "version": 3
   },
   "file_extension": ".py",
   "mimetype": "text/x-python",
   "name": "python",
   "nbconvert_exporter": "python",
   "pygments_lexer": "ipython3",
   "version": "3.11.7"
  }
 },
 "nbformat": 4,
 "nbformat_minor": 5
}
